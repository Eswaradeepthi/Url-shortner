{
 "cells": [
  {
   "cell_type": "code",
   "execution_count": 1,
   "id": "7c03b368-64e0-4269-bb3d-0750c3edd351",
   "metadata": {},
   "outputs": [
    {
     "name": "stdout",
     "output_type": "stream",
     "text": [
      "Requirement already satisfied: pyshorteners in c:\\users\\hp\\appdata\\local\\programs\\python\\python39\\lib\\site-packages (1.0.1)\n",
      "Requirement already satisfied: requests in c:\\users\\hp\\appdata\\local\\programs\\python\\python39\\lib\\site-packages (from pyshorteners) (2.31.0)\n",
      "Requirement already satisfied: certifi>=2017.4.17 in c:\\users\\hp\\appdata\\local\\programs\\python\\python39\\lib\\site-packages (from requests->pyshorteners) (2023.11.17)\n",
      "Requirement already satisfied: idna<4,>=2.5 in c:\\users\\hp\\appdata\\local\\programs\\python\\python39\\lib\\site-packages (from requests->pyshorteners) (3.6)\n",
      "Requirement already satisfied: charset-normalizer<4,>=2 in c:\\users\\hp\\appdata\\local\\programs\\python\\python39\\lib\\site-packages (from requests->pyshorteners) (3.3.2)\n",
      "Requirement already satisfied: urllib3<3,>=1.21.1 in c:\\users\\hp\\appdata\\local\\programs\\python\\python39\\lib\\site-packages (from requests->pyshorteners) (2.1.0)\n",
      "Note: you may need to restart the kernel to use updated packages.\n"
     ]
    },
    {
     "name": "stderr",
     "output_type": "stream",
     "text": [
      "WARNING: You are using pip version 21.2.3; however, version 24.0 is available.\n",
      "You should consider upgrading via the 'C:\\Users\\hp\\AppData\\Local\\Programs\\Python\\Python39\\python.exe -m pip install --upgrade pip' command.\n"
     ]
    }
   ],
   "source": [
    "pip install pyshorteners"
   ]
  },
  {
   "cell_type": "code",
   "execution_count": 2,
   "id": "76edb1e7-d010-47b7-9d69-ad4c04cabb22",
   "metadata": {},
   "outputs": [
    {
     "name": "stdin",
     "output_type": "stream",
     "text": [
      "Enter the URL to shorten:  https://gate.iitkgp.ac.in/old_question_papers.html\n"
     ]
    }
   ],
   "source": [
    "import pyshorteners\n",
    "\n",
    "long_url = input(\"Enter the URL to shorten: \")\n",
    "type_tiny = pyshorteners.Shortener()"
   ]
  },
  {
   "cell_type": "code",
   "execution_count": 3,
   "id": "3a404ab1-c62e-401f-a434-ab8cba1cb136",
   "metadata": {},
   "outputs": [
    {
     "name": "stdout",
     "output_type": "stream",
     "text": [
      "The Shortened URL is: http://tinyurl.com/22zq3jcx\n"
     ]
    }
   ],
   "source": [
    "short_url = type_tiny.tinyurl.short(long_url)\n",
    "print(\"The Shortened URL is:\", short_url)"
   ]
  },
  {
   "cell_type": "code",
   "execution_count": null,
   "id": "fc23542c-2f8e-4070-bb88-2218962b19a8",
   "metadata": {},
   "outputs": [],
   "source": [
    "#CODE USING FUNCTIONS"
   ]
  },
  {
   "cell_type": "code",
   "execution_count": 4,
   "id": "eaf11d56-5db2-4600-9b62-da8b612de65a",
   "metadata": {},
   "outputs": [
    {
     "name": "stdin",
     "output_type": "stream",
     "text": [
      "Enter a URL:  https://gate.iitkgp.ac.in/old_question_papers.html\n"
     ]
    },
    {
     "name": "stdout",
     "output_type": "stream",
     "text": [
      "Shortened URL: http://tinyurl.com/22zq3jcx\n"
     ]
    }
   ],
   "source": [
    "import pyshorteners\n",
    "\n",
    "def shorten_url(long_url):\n",
    "    s = pyshorteners.Shortener()\n",
    "    return s.tinyurl.short(long_url)\n",
    "\n",
    "user_input = input(\"Enter a URL: \")\n",
    "print(\"Shortened URL:\", shorten_url(user_input))\n"
   ]
  },
  {
   "cell_type": "code",
   "execution_count": null,
   "id": "0848f98f-2a4d-4beb-b8b2-1061df77b53b",
   "metadata": {},
   "outputs": [],
   "source": []
  }
 ],
 "metadata": {
  "kernelspec": {
   "display_name": "Python 3 (ipykernel)",
   "language": "python",
   "name": "python3"
  },
  "language_info": {
   "codemirror_mode": {
    "name": "ipython",
    "version": 3
   },
   "file_extension": ".py",
   "mimetype": "text/x-python",
   "name": "python",
   "nbconvert_exporter": "python",
   "pygments_lexer": "ipython3",
   "version": "3.9.7"
  }
 },
 "nbformat": 4,
 "nbformat_minor": 5
}
